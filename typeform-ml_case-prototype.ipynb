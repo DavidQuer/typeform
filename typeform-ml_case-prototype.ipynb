{
 "cells": [
  {
   "cell_type": "markdown",
   "metadata": {},
   "source": [
    "# Typeform: ML Case (1): Pipeline prototype\n",
    "#### with SciKit Learn Pipeline ready to deploy"
   ]
  },
  {
   "cell_type": "code",
   "execution_count": 1,
   "metadata": {},
   "outputs": [],
   "source": [
    "%matplotlib inline"
   ]
  },
  {
   "cell_type": "code",
   "execution_count": 2,
   "metadata": {},
   "outputs": [],
   "source": [
    "import pandas as pd\n",
    "import numpy as np"
   ]
  },
  {
   "cell_type": "code",
   "execution_count": 3,
   "metadata": {},
   "outputs": [],
   "source": [
    "import matplotlib\n",
    "import matplotlib.pyplot as plt\n",
    "import seaborn as sns"
   ]
  },
  {
   "cell_type": "markdown",
   "metadata": {},
   "source": [
    "## Typeform: Pipeline: Data Processing"
   ]
  },
  {
   "cell_type": "code",
   "execution_count": 4,
   "metadata": {},
   "outputs": [],
   "source": [
    "df_typeform = pd.read_csv(\"./data/typeform.csv\", header=None)\n",
    "df_typeform.columns = [\"form_id\", \"submissions\", \"view\", \"features\"]\n",
    "df = df_typeform.copy()"
   ]
  },
  {
   "cell_type": "code",
   "execution_count": 5,
   "metadata": {},
   "outputs": [],
   "source": [
    "df = df[df.view > 0.0].copy()"
   ]
  },
  {
   "cell_type": "code",
   "execution_count": 6,
   "metadata": {},
   "outputs": [
    {
     "name": "stdout",
     "output_type": "stream",
     "text": [
      "Index(['feature_0'], dtype='object')\n"
     ]
    }
   ],
   "source": [
    "# split features\n",
    "df['features'] = \\\n",
    "    df.features.apply(lambda x : x.split('-'))\n",
    "# unstack\n",
    "features = df_typeform.features.apply(pd.Series)\n",
    "features = features.rename(\n",
    "    columns = lambda x : 'feature_' + str(x))\n",
    "print(features.columns)"
   ]
  },
  {
   "cell_type": "code",
   "execution_count": null,
   "metadata": {},
   "outputs": [],
   "source": [
    "# cleaning (sure there's a better way)\n",
    "features['feature_46'] = \\\n",
    "    features['feature_46'].apply(lambda x : x[:-1])\n"
   ]
  },
  {
   "cell_type": "code",
   "execution_count": null,
   "metadata": {},
   "outputs": [],
   "source": [
    "from sklearn.base import TransformerMixin, BaseEstimator\n",
    "\n",
    "class DataProcessing(TransformerMixin, BaseEstimator):\n",
    "    \"\"\" Perform data processing on a csv file\n",
    "    Arguments:\n",
    "        df - pandas.DataFrame with features and output\n",
    "    Returns: transformed dataframe \n",
    "    See https://scikit-learn.org/stable/modules/generated/\n",
    "        sklearn.base.TransformerMixin.html for the details\n",
    "    \"\"\"\n",
    "\n",
    "    def __init__(self):\n",
    "        pass\n",
    "\n",
    "    def cleaning(self, df):\n",
    "        # clean zero views\n",
    "        df = df[df.view > 0.0].copy()\n",
    "        return df.copy()\n",
    "\n",
    "    def transform_features(self, df):\n",
    "        # split features\n",
    "        df['features'] = \\\n",
    "            df.features.apply(lambda x : x.split('-'))\n",
    "        # unstack\n",
    "        features = df_typeform.features.apply(pd.Series)\n",
    "        features = features.rename(\n",
    "            columns = lambda x : 'feature_' + str(x))\n",
    "        print(features.columns)\n",
    "        # cleaning (sure there's a better way)\n",
    "        features['feature_46'] = \\\n",
    "            features['feature_46'].apply(lambda x : x[:-1])\n",
    "        return features\n",
    "\n",
    "    def transform_output(self, df):\n",
    "        # clean zero views\n",
    "        df = df[df.view > 0.0].copy()\n",
    "        # calculate ouyput\n",
    "        df['completion_rate'] = df.submissions / df.view\n",
    "        return df[['completion_rate']].copy()\n",
    "    \n",
    "    def fit(self):\n",
    "        pass\n",
    "    \n",
    "    def transform(self, df):\n",
    "        df = self.cleaning(df)\n",
    "        features = self.transform_features(df)\n",
    "        output = self.transform_output(df)\n",
    "        df_res = pd.concat([output, features[:]], axis=1)\n",
    "        df_res = df_res.astype(float)\n",
    "        return df_res"
   ]
  },
  {
   "cell_type": "code",
   "execution_count": null,
   "metadata": {},
   "outputs": [],
   "source": [
    "tp = DataProcessing()"
   ]
  },
  {
   "cell_type": "code",
   "execution_count": null,
   "metadata": {},
   "outputs": [],
   "source": [
    "df_clean = tp.transform(df=df_typeform)"
   ]
  },
  {
   "cell_type": "code",
   "execution_count": null,
   "metadata": {},
   "outputs": [],
   "source": [
    "df_clean.head()"
   ]
  },
  {
   "cell_type": "markdown",
   "metadata": {},
   "source": [
    "## Typeform: Model re-training pipeline"
   ]
  },
  {
   "cell_type": "code",
   "execution_count": null,
   "metadata": {},
   "outputs": [],
   "source": [
    "from sklearn.pipeline import Pipeline\n",
    "from sklearn.model_selection import GridSearchCV\n",
    "from sklearn.model_selection import train_test_split\n",
    "from sklearn.ensemble import RandomForestRegressor\n",
    "from sklearn.metrics import mean_absolute_error \n",
    "\n",
    "pipeline = Pipeline([\n",
    "    ('transforms', TextProcessing()),\n",
    "    ('regression', RandomForestRegressor())\n",
    "])\n",
    "\n",
    "X_train, X_test, y_train, y_test = train_test_split(X, y, stratify=y)\n",
    "pipeline.fit(X_train, y_train)\n",
    "\n",
    "pipeline.get_params()"
   ]
  },
  {
   "cell_type": "code",
   "execution_count": null,
   "metadata": {},
   "outputs": [],
   "source": [
    "# add grid search over the entire pipeline\n",
    "params = [\n",
    "    {\n",
    "        'regression': [RandomForestRegressor()],\n",
    "        'regression__n_estimators': [100, 500, 1000],\n",
    "    }\n",
    "]\n",
    "\n",
    "grid = GridSearchCV(pipeline, param_grid=params, cv=5)\n",
    "grid.fit(X_train, y_train)\n",
    "\n",
    "grid.get_params()"
   ]
  },
  {
   "cell_type": "markdown",
   "metadata": {},
   "source": [
    "Saving the grid pipeline"
   ]
  },
  {
   "cell_type": "code",
   "execution_count": null,
   "metadata": {},
   "outputs": [],
   "source": []
  },
  {
   "cell_type": "markdown",
   "metadata": {},
   "source": [
    "## Typeform: Model predicting method"
   ]
  },
  {
   "cell_type": "code",
   "execution_count": null,
   "metadata": {},
   "outputs": [],
   "source": []
  },
  {
   "cell_type": "code",
   "execution_count": null,
   "metadata": {},
   "outputs": [],
   "source": [
    "import pandas as pd\n",
    "\n",
    "df = pd.read_csv(\"./data/typeform.csv\",header=None)\n",
    "df.head(5).to_csv(\"./data/typeform5.csv\",header=None)"
   ]
  },
  {
   "cell_type": "code",
   "execution_count": null,
   "metadata": {},
   "outputs": [],
   "source": []
  }
 ],
 "metadata": {
  "kernelspec": {
   "display_name": "Python 3",
   "language": "python",
   "name": "python3"
  },
  "language_info": {
   "codemirror_mode": {
    "name": "ipython",
    "version": 3
   },
   "file_extension": ".py",
   "mimetype": "text/x-python",
   "name": "python",
   "nbconvert_exporter": "python",
   "pygments_lexer": "ipython3",
   "version": "3.7.3"
  }
 },
 "nbformat": 4,
 "nbformat_minor": 2
}
